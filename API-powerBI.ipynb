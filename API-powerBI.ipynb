{
 "cells": [
  {
   "cell_type": "code",
   "execution_count": null,
   "metadata": {},
   "outputs": [],
   "source": [
    "from powerbiclient import Report, models\n",
    "\n",
    "# Define your Power BI workspace credentials\n",
    "workspace_id = \"<your workspace ID>\"\n",
    "access_token = \"<your access token>\"\n",
    "\n",
    "# Connect to your workspace using the Power BI Python client library\n",
    "client = models.PowerBIClient(workspace_id, access_token)\n",
    "\n",
    "# Get a list of all reports in your workspace\n",
    "reports = client.reports.get_reports()\n",
    "for report in reports:\n",
    "    print(report.name)"
   ]
  }
 ],
 "metadata": {
  "language_info": {
   "name": "python"
  },
  "orig_nbformat": 4
 },
 "nbformat": 4,
 "nbformat_minor": 2
}
