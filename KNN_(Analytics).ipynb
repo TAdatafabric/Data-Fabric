{
 "cells": [
  {
   "attachments": {},
   "cell_type": "markdown",
   "metadata": {},
   "source": [
    "Import Library"
   ]
  },
  {
   "cell_type": "code",
   "execution_count": 2,
   "metadata": {},
   "outputs": [],
   "source": [
    "import pandas as pd #library untuk dataframe\n",
    "import numpy as np #library untuk komputas\n",
    "import matplotlib.pyplot as plt #library untuk visualisasi\n",
    "from sklearn.model_selection import train_test_split #library dataset split dan model\n",
    "from sklearn.neighbors import KNeighborsClassifier\n",
    "#library untuk evaluasi\n",
    "from sklearn.metrics import confusion_matrix, accuracy_score, classification_report,recall_score,precision_score"
   ]
  },
  {
   "attachments": {},
   "cell_type": "markdown",
   "metadata": {},
   "source": [
    "Import Dataset"
   ]
  },
  {
   "cell_type": "code",
   "execution_count": 3,
   "metadata": {},
   "outputs": [
    {
     "name": "stdout",
     "output_type": "stream",
     "text": [
      "44276\n",
      "      day_no             time_no service_filter payment_cat     subs_no  \\\n",
      "0 2021-09-01 2021-09-01 21:24:31         SMSBAS         PRE  2106705274   \n",
      "1 2021-09-01 2021-09-01 21:29:28         SMSBAS         PRE  2106705274   \n",
      "2 2021-09-01 2021-09-01 21:36:35         SMSBAS         PRE  2106705274   \n",
      "3 2021-09-01 2021-09-01 03:38:55         CONTEN         PRE  1075588229   \n",
      "4 2021-09-01 2021-09-01 07:43:24         VASOCC         PRE  1075588229   \n",
      "\n",
      "        subs_key          b_no event_action_code  prefix_dom_sk_id  \\\n",
      "0  6281932975189  6.285693e+12                 O              5636   \n",
      "1  6281932975189  6.285693e+12                 O              5636   \n",
      "2  6281932975189  6.285693e+12                 O              5636   \n",
      "3  6287775860056  0.000000e+00                 O                -1   \n",
      "4  6287775860056  9.955702e+06                 B                -1   \n",
      "\n",
      "  originating_cell_id  ... rem_bal rtd_amt free_unit chrg_unit rtd_unit  \\\n",
      "0  510.11.34314.18692  ...     673      50       0.0         1        1   \n",
      "1  510.11.34314.38401  ...     623      50       0.0         1        1   \n",
      "2  510.11.34314.18693  ...     573      50       0.0         1        1   \n",
      "3     510.11.411131.6  ...    1775       1       NaN      1024     1024   \n",
      "4             0.0.0.0  ...    7220    5500       0.0         1        1   \n",
      "\n",
      "  usg_unit       apn       sid  disc_amt  Unnamed: 25  \n",
      "0        1       NaN    SILVER         0          NaN  \n",
      "1        1       NaN    SILVER         0          NaN  \n",
      "2        1       NaN    SILVER         0          NaN  \n",
      "3     1024  internet  CATCHALL         0          NaN  \n",
      "4        1       NaN    SILVER         0          NaN  \n",
      "\n",
      "[5 rows x 26 columns]\n"
     ]
    }
   ],
   "source": [
    "dataset = pd.read_excel('Dataset\\Data-Fabric-Project.xlsx')\n",
    "print(len(dataset))\n",
    "print(dataset.head()) #menampilkan 5 data teratas"
   ]
  },
  {
   "attachments": {},
   "cell_type": "markdown",
   "metadata": {},
   "source": [
    "Display Dataset"
   ]
  },
  {
   "cell_type": "code",
   "execution_count": 4,
   "metadata": {},
   "outputs": [
    {
     "name": "stdout",
     "output_type": "stream",
     "text": [
      "0        SMSBAS\n",
      "1        SMSBAS\n",
      "2        SMSBAS\n",
      "3        CONTEN\n",
      "4        VASOCC\n",
      "          ...  \n",
      "44271    NATNAL\n",
      "44272    NATNAL\n",
      "44273    CONTEN\n",
      "44274    CONTEN\n",
      "44275    NATNAL\n",
      "Name: service_filter, Length: 44276, dtype: object\n"
     ]
    }
   ],
   "source": [
    "dataset.shape\n",
    "print(dataset['service_filter'])"
   ]
  },
  {
   "attachments": {},
   "cell_type": "markdown",
   "metadata": {},
   "source": [
    "Training Dataset"
   ]
  },
  {
   "cell_type": "code",
   "execution_count": 5,
   "metadata": {},
   "outputs": [
    {
     "data": {
      "text/plain": [
       "94.10632284814874"
      ]
     },
     "execution_count": 5,
     "metadata": {},
     "output_type": "execute_result"
    }
   ],
   "source": [
    "#split dataset\n",
    "X = dataset.iloc[:, 0:8]\n",
    "y = dataset.iloc[:, 8]\n",
    "X_train, X_test, y_train, y_test = train_test_split(X, y, random_state=0, test_size=0.2)\n",
    "\n",
    "#cek jumlah neigbor (-1)\n",
    "import math\n",
    "math.sqrt(len(y_test))"
   ]
  },
  {
   "cell_type": "code",
   "execution_count": null,
   "metadata": {},
   "outputs": [],
   "source": [
    "#define the model\n",
    "knn = KNeighborsClassifier(n_neighbors=93, metric='euclidean')\n",
    "#train\n",
    "knn.fit(X_train, y_train)\n",
    "#predict\n",
    "y_pred = knn.predict(X_test)\n",
    "\n",
    "#print the predicted labels\n",
    "print(y_pred)"
   ]
  },
  {
   "cell_type": "code",
   "execution_count": null,
   "metadata": {},
   "outputs": [],
   "source": [
    "#define the model\n",
    "knn = KNeighborsClassifier(n_neighbors=93, metric='manhattan')\n",
    "#train\n",
    "knn.fit(X_train, y_train)\n",
    "#predict\n",
    "y_pred = knn.predict(X_test)\n",
    "\n",
    "#print the predicted labels\n",
    "print(y_pred)"
   ]
  },
  {
   "cell_type": "code",
   "execution_count": null,
   "metadata": {},
   "outputs": [],
   "source": [
    "#fit model\n",
    "knn.fit(X_train, y_train)"
   ]
  },
  {
   "cell_type": "code",
   "execution_count": null,
   "metadata": {},
   "outputs": [],
   "source": [
    "from sklearn.preprocessing import LabelEncoder\n",
    "le = LabelEncoder()\n",
    "for kolom in dataset.select_dtypes(include=['object']).columns:\n",
    "  dataset[kolom] = le.fit_transform(dataset[kolom])\n",
    "dataset"
   ]
  },
  {
   "cell_type": "code",
   "execution_count": null,
   "metadata": {},
   "outputs": [],
   "source": [
    "from sklearn.neighbors import KNeighborsClassifier\n",
    "knn = KNeighborsClassifier(n_neighbors=11 )\n",
    "knn.fit(X_train,y_train)"
   ]
  },
  {
   "cell_type": "code",
   "execution_count": null,
   "metadata": {},
   "outputs": [],
   "source": [
    "acc_knn = accuracy_score(y_test,y_pred_knn)\n",
    "prec_knn = precision_score(y_test,y_pred_knn, average='weighted')\n",
    "rec_knn = recall_score(y_test,y_pred_knn,average='weighted')\n",
    "f1_score_knn = 2*(prec_knn*rec_knn)/(prec_knn+rec_knn)"
   ]
  },
  {
   "cell_type": "code",
   "execution_count": null,
   "metadata": {},
   "outputs": [],
   "source": [
    "print('Akurasi knn :',acc_knn)\n",
    "print('Presisi knn :',prec_knn)\n",
    "print('Recall knn :',rec_knn)\n",
    "print('F1_Score knn :',f1_score_knn)"
   ]
  },
  {
   "attachments": {},
   "cell_type": "markdown",
   "metadata": {},
   "source": [
    "Coba coba"
   ]
  },
  {
   "cell_type": "code",
   "execution_count": null,
   "metadata": {},
   "outputs": [],
   "source": [
    "def L2(trainx, trainy, testx):\n",
    "\n",
    "    from sklearn.neighbors import KNeighborsClassifier\n",
    "    # Create KNN Classifier\n",
    "    knn = KNeighborsClassifier(n_neighbors=1)\n",
    "\n",
    "    # Train the model using the training sets\n",
    "    knn.fit(trainx, trainy)\n",
    "\n",
    "    # Predict the response for test dataset\n",
    "    y_pred = knn.predict(testx)\n",
    "    return y_pred"
   ]
  },
  {
   "cell_type": "code",
   "execution_count": null,
   "metadata": {},
   "outputs": [],
   "source": [
    "def L1(trainx, trainy, testx):\n",
    "\n",
    "    from sklearn.neighbors import KNeighborsClassifier\n",
    "    # Create KNN Classifier\n",
    "    knn = KNeighborsClassifier(n_neighbors=1, metric='manhattan')\n",
    "\n",
    "    # Train the model using the training sets\n",
    "    knn.fit(trainx, trainy)\n",
    "\n",
    "    # Predict the response for test dataset\n",
    "    y_pred = knn.predict(testx)\n",
    "    return y_pred"
   ]
  },
  {
   "attachments": {},
   "cell_type": "markdown",
   "metadata": {},
   "source": [
    "Coba coba"
   ]
  }
 ],
 "metadata": {
  "kernelspec": {
   "display_name": "Python 3",
   "language": "python",
   "name": "python3"
  },
  "language_info": {
   "codemirror_mode": {
    "name": "ipython",
    "version": 3
   },
   "file_extension": ".py",
   "mimetype": "text/x-python",
   "name": "python",
   "nbconvert_exporter": "python",
   "pygments_lexer": "ipython3",
   "version": "3.11.2"
  },
  "orig_nbformat": 4
 },
 "nbformat": 4,
 "nbformat_minor": 2
}
